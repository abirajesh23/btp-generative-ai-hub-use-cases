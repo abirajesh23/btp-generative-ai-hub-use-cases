{
 "cells": [
  {
   "cell_type": "markdown",
   "metadata": {},
   "source": [
    "# Initial configuration of SAP AI Core for BYOM-OSS-LLM-AI-CORE\n",
    "This notebook automates the initial configurations for application BYOM-OSS-LLM-AI-CORE to bring open-sourced llms into SAP AI Core. Alternatively, you can perform the same with SAP AI Launchpad.\n",
    "- Review and update the configuration in config.json\n",
    "- Initialize a client of SAP AI Core SDK\n",
    "- Create a resource group\n",
    "- Register a docker secret\n",
    "- Prepare a dummy model placeholder in object store\n",
    "- Register Object Store Secret\n",
    "- Onboarding Git Repository and Create an Application for BYOM-OSS-LLM-AI-CORE\n",
    "- Synchronize the application and check its status\n",
    "- Create the configurations for scenarios ollama, local-ai, llama.cpp, vllm and infinity(embedding)"
   ]
  },
  {
   "cell_type": "markdown",
   "metadata": {},
   "source": [
    "#### 1: Copy [config.template.json](config.template.jso) as [config.json](config.json) "
   ]
  },
  {
   "cell_type": "code",
   "execution_count": null,
   "metadata": {},
   "outputs": [],
   "source": [
    "%%sh\n",
    "cp config.template.json config.json"
   ]
  },
  {
   "cell_type": "markdown",
   "metadata": {},
   "source": [
    "#### 2: Review and Update configuration in [config.json](config.json)\n",
    "Please read the **comments** carefully in [config.json](config.json) and update the necessary configurations.  \n",
    "- **name**: used as name of git repository and application. \n",
    "- **resource_group**: \"default\" will be used if not specified. It is optional but recommended to create a dedicate resource group, and update it [config.json](config.json). By default, \"default\" resource group is in place for all the AI Core instances.AI Core with tree tier plan is not able to create a new resource group.\n",
    "- **ai_core_sk**: update with your own AI Core Service Key\n",
    "- **docker_secret**: Update the user and password etc in .dockerconfigjson. Please refer to [this document](https://help.sap.com/docs/sap-ai-core/sap-ai-core-service-guide/register-your-docker-registry-secret) for more detail.\n",
    "    - username: Replace <REPLACE_WITH_YOUR_DOCKER_USERNAME> with your docker user name. \n",
    "    - password: Replace <REPLACE_WITH_YOUR_DOCKER_ACCESS_TOKEN> with your docker access token.\n",
    "- **git_repo**: update the git repo configuration with your owns\n",
    "    - repo_url: url to your forked repository. It should be: https://github.com/<YOUR_GITHUB_ORG_OR_USER>/btp-generative-ai-hub-use-cases\n",
    "    - user: Update with your github user\n",
    "    - access_token: Update with your github user access token\n",
    "- **object_store_secret**(Optional): Only needed by [llama.cpp](llama.cpp) and vllm(vllm) to host custom models(fine-tuning etc). Update with your object store secret info. The sample below only refers to register the object store secret for AWS S3, there are other object store supported in SAP AI Core. Please refer to [this document](https://help.sap.com/docs/sap-ai-core/sap-ai-core-service-guide/register-your-object-store-secret) for more detail and adapt the object_store_secret section in config.json sample code. The object store secret is only required for self-hosting your private custom or fine-tuning models physically. \n",
    "    - name: the name of object store secret, default as object-store-secret. \n",
    "    - type: S3, OSS etc.\n",
    "    - bucket: the AWS S3 bucket used as your private llm repository for hosting fine-tuning models or a dummy model placeholder for model artifacts for public open-source llms to be used with SAP Generative AI Hub SDK.\n",
    "    - endpoint: AWS S3 endpoint. Default as s3.amazonaws.com\n",
    "    - region: The target s3 region for the bucket. Optional. Default as blank.\n",
    "    - pathPrefix: The path prefix after bucket name. Optional. Default as blank.\n",
    "    - AWS_ACCESS_KEY_ID: Replace with your own aws access key id\n",
    "    - AWS_SECRET_ACCESS_KEY: Replace with your own aws secret access key.\n",
    "- **model_placeholder**(Optional): Only needed by llama.cpp and vllm for hosting custom models(fine-tuning etc).The dummy model placeholder is used to create the s3 bucket and path_prefix folder in step 6, which is used to register object store secret in step 7. It is recommended to use the default values.\n",
    "    - model_file_name: default as \"dummy.txt\", which will be created dynamically in the sample code and as a placeholder for the model for artifact registration only.\n",
    "    - path: default as \"Dummy\". It is used in the url below.\n",
    "    - url: the url of the dummy model. Default as \"ai://object-store-secret/Dummy\". Please refer to [this document](https://help.sap.com/docs/sap-ai-core/sap-ai-core-service-guide/artifacts) for more detail \n",
    "- **application**: The SAP AI Core application hosts the scenarios of ollama etc to serving open sourced llms in SAP AI Core\n",
    "    - path_in_repo: relative path to the serving templates. No change needed.\n",
    "- **configurations**: Review the configurations of the scenarios. By default, it is configured to load the mistral-7b quantization model with [resource plan infer.s in SAP AI Core](https://help.sap.com/docs/sap-ai-core/sap-ai-core-service-guide/choose-resource-plan-c58d4e584a5b40a2992265beb9b6be3c) defined in [../byom-oss-llm-templates](../byom-oss-llm-templates). It is recommend to go ahead first with the default configurations in config.json.\n",
    "    - **Ollama**: By default, **llama3:latest** model is configured. Pull the model dynamically in [ollama/ollama.ipynb](ollama/ollama.ipynb)\n",
    "    - **LocalAI**: LocalAI allows you to [preload model during startup](https://localai.io/advanced/#preloading-models-during-startup). The initial configuration in config.json will preload model [Mistral-7B-OpenOrca-GGUF](https://github.com/go-skynet/model-gallery/blob/main/mistral.yaml) with local-ai on resource plan 'infer.s' defined in [local-ai-template.yaml](../byom-oss-llm-templates/local-ai-template.yaml). In its model config file, GPU acceleration isn't enabled, hence it is quite slow. To have GPU acceleration for a model, you may set in its model config yaml file. For example [mixtral-Q6.yaml](https://github.com/go-skynet/model-gallery/blob/main/mixtral-Q6.yaml). Please review the [full config model file reference](https://localai.io/advanced/#full-config-model-file-reference)\n",
    "        ```sh\n",
    "        f16: true \n",
    "        mmap: true \n",
    "        gpu_layers: xx \n",
    "        ```\n",
    "        In addition, you can install more models through end point /model/apply in [local-ai/local-ai.ipynb](local-ai/local-ai.ipynb). Please refer to https://localai.io/advanced/#preloading-models-during-startup\n",
    "    - **llama.cpp**: By default, model mistral-7b-instruct-v0.2.Q5_K_M.gguf is configured with alias as mistral. Unlike ollama and local-ai, llama.cpp scenario only supports one model in one configuration. If you need multiple models to be served with llama.cpp, please create multiple configurations through SAP AI Launchpad\n",
    "    - **vllm**: By default, model TheBloke/Mistral-7B-Instruct-v0.2-AWQ is configured. Unlike ollama and local-ai, vllm scenario only supports one model in one configuration. If you need multiple model to be served with llama.cpp, please create multiple configurations through SAP AI Launchpad"
   ]
  },
  {
   "cell_type": "markdown",
   "metadata": {},
   "source": [
    "#### 3: Load the configurations from [config.json](config.json)\n",
    "The service key of AI Core are located in section ai_core_sk of [config.json](config.json).<br/>\n",
    "Please update it with your own service key before running this notebook "
   ]
  },
  {
   "cell_type": "code",
   "execution_count": 1,
   "metadata": {
    "scrolled": true
   },
   "outputs": [
    {
     "name": "stdout",
     "output_type": "stream",
     "text": [
      "Configurations loaded from config.json\n",
      "name:  byom-open-source-llm resource_group:  oss-llm\n"
     ]
    }
   ],
   "source": [
    "import json\n",
    "from time import sleep\n",
    "\n",
    "with open(\"config.json\") as f:\n",
    "    config = json.load(f)\n",
    "\n",
    "# Initializations\n",
    "resource_group = config.get(\"resource_group\", \"default\")\n",
    "name = config.get(\"name\", \"open-source-llms\")\n",
    "print(\"Configurations loaded from config.json\")\n",
    "print(\"name: \", name, \"resource_group: \", resource_group )"
   ]
  },
  {
   "cell_type": "markdown",
   "metadata": {},
   "source": [
    "#### 4: Initialize AI Core SDK Client\n",
    "The service key of AI Core are located in section ai_core_sk of [config.json](config.json).<br/>\n",
    "Please update it with your own service key before running this notebook "
   ]
  },
  {
   "cell_type": "code",
   "execution_count": 2,
   "metadata": {},
   "outputs": [
    {
     "name": "stdout",
     "output_type": "stream",
     "text": [
      "resource group: oss-llm, name: byom-open-source-llm\n"
     ]
    }
   ],
   "source": [
    "from ai_core_sdk.ai_core_v2_client import AICoreV2Client\n",
    "\n",
    "ai_core_sk = config[\"ai_core_service_key\"]\n",
    "client = AICoreV2Client(base_url=ai_core_sk.get(\"serviceurls\").get(\"AI_API_URL\")+\"/v2\",\n",
    "                        auth_url=ai_core_sk.get(\"url\")+\"/oauth/token\",\n",
    "                        client_id=ai_core_sk.get(\"clientid\"),\n",
    "                        client_secret=ai_core_sk.get(\"clientsecret\"),\n",
    "                        resource_group=resource_group)\n",
    "print(f\"resource group: {resource_group}, name: {name}\")\n"
   ]
  },
  {
   "cell_type": "markdown",
   "metadata": {},
   "source": [
    "#### 5: Create a dedicated resource group (Optional but recommended)\n",
    "resource_group defined here must be matched with resource_group in [config.json](config.json). Default as \"oss-llm\""
   ]
  },
  {
   "cell_type": "code",
   "execution_count": 3,
   "metadata": {},
   "outputs": [
    {
     "name": "stdout",
     "output_type": "stream",
     "text": [
      "{'resource_group_id': 'oss-llm', 'labels': None, 'status': None, 'created_at': None}\n"
     ]
    }
   ],
   "source": [
    "response = client.resource_groups.create(resource_group_id = resource_group)\n",
    "print(response.__dict__)"
   ]
  },
  {
   "cell_type": "markdown",
   "metadata": {},
   "source": [
    "### 6: Register Docker Secret within SAP AI Core\n",
    "\n",
    "Please skip this step if you have already registered your docker secret within SAP AI Core."
   ]
  },
  {
   "cell_type": "code",
   "execution_count": 4,
   "metadata": {},
   "outputs": [
    {
     "name": "stdout",
     "output_type": "stream",
     "text": [
      "{'message': 'secret has been created'}\n",
      "Docker Registry Secret: docker-secret\n"
     ]
    }
   ],
   "source": [
    "docker_secret = config[\"docker_secret\"]\n",
    "response = client.docker_registry_secrets.create(\n",
    "    name = docker_secret[\"name\"],\n",
    "    data = docker_secret[\"data\"]\n",
    ")\n",
    "\n",
    "print(response.__dict__)\n",
    "print(f'Docker Registry Secret: {docker_secret[\"name\"]}')"
   ]
  },
  {
   "cell_type": "markdown",
   "metadata": {},
   "source": [
    "### 7: (Optional) Prepare a dummy model placeholder in object store\n",
    "Only needed by llama.cpp and vllm for hosting custom models(fine tuning etc) in SAP AI Core.<br/>\n",
    "In the sample code, we register object store secret for AWS S3. Please assure the sections of object_store_secret and model_placeholder have been setup in config.json. If not, please refer to step 2: Review and Update configuration in config.json. The following actions will be performed.\n",
    "- Create the s3 bucket\n",
    "- Upload the model file place holder to the s3 bucket with key as (s3://bucket/path_prefix/path), which will be used to create the model artifact of open-source llm for model identification with deployment_id and model_name in SAP Generative AI Hub SDK."
   ]
  },
  {
   "cell_type": "code",
   "execution_count": 5,
   "metadata": {},
   "outputs": [],
   "source": [
    "# Extract necessary details from the config\n",
    "object_store_secret = config[\"object_store_secret\"]\n",
    "object_store_secret_name = object_store_secret[\"name\"]\n",
    "bucket_name = object_store_secret[\"bucket\"]\n",
    "# path_prefix = object_store_secret[\"pathPrefix\"]\n",
    "endpoint_url = object_store_secret[\"endpoint\"]\n",
    "region_name = object_store_secret.get(\"region\")  # region is optional\n",
    "aws_access_key_id = object_store_secret[\"data\"][\"AWS_ACCESS_KEY_ID\"]\n",
    "aws_secret_access_key = object_store_secret[\"data\"][\"AWS_SECRET_ACCESS_KEY\"]\n",
    "\n",
    "model_placeholder = config[\"model_placeholder\"]\n",
    "model_file_name = model_placeholder[\"model_file_name\"]\n",
    "path = model_placeholder[\"path\"]\n",
    "url = model_placeholder[\"url\"]"
   ]
  },
  {
   "cell_type": "code",
   "execution_count": 6,
   "metadata": {},
   "outputs": [
    {
     "name": "stdout",
     "output_type": "stream",
     "text": [
      "File 'dummy.txt' uploaded to 'hcp-907202ba-fb8f-44a5-984e-3ca59e6a896f/Dummy/dummy.txt'.\n"
     ]
    }
   ],
   "source": [
    "import boto3\n",
    "import os\n",
    "\n",
    "# Initialize the S3 client\n",
    "s3_client = boto3.client(\n",
    "    's3',\n",
    "    #endpoint_url=endpoint_url,\n",
    "    #region_name=region_name,\n",
    "    aws_access_key_id=aws_access_key_id,\n",
    "    aws_secret_access_key=aws_secret_access_key\n",
    ")\n",
    "\n",
    "# Create the S3 bucket\n",
    "# try:\n",
    "#     if region_name:\n",
    "#         s3_client.create_bucket(\n",
    "#             Bucket=bucket_name,\n",
    "#             CreateBucketConfiguration={'LocationConstraint': region_name}\n",
    "#         )\n",
    "#     else:\n",
    "#         s3_client.create_bucket(Bucket=bucket_name)\n",
    "#     print(f\"Bucket '{bucket_name}' created successfully.\")\n",
    "# except s3_client.exceptions.BucketAlreadyExists:\n",
    "#     print(f\"Bucket '{bucket_name}' already exists.\")\n",
    "# except s3_client.exceptions.BucketAlreadyOwnedByYou:\n",
    "#     print(f\"Bucket '{bucket_name}' already owned by you.\")\n",
    "\n",
    "# Create a dummy file to upload\n",
    "# model_file_name = 'dummy.txt'\n",
    "with open(model_file_name, 'w') as f:\n",
    "    f.write(\"This is a dummy file.\")\n",
    "\n",
    "# Define the key (path in the bucket) for the dummy file\n",
    "object_key = f\"{path}/{model_file_name}\"\n",
    "\n",
    "# Upload the dummy file to create the folder structure for path_prefix\n",
    "s3_client.upload_file(model_file_name, bucket_name, object_key)\n",
    "print(f\"File '{model_file_name}' uploaded to '{bucket_name}/{object_key}'.\")\n",
    "\n",
    "# Clean up the local dummy file if desired\n",
    "os.remove(model_file_name)\n"
   ]
  },
  {
   "cell_type": "markdown",
   "metadata": {},
   "source": [
    "### 8: (Optional) Register Object Store Secret\n",
    "The object store will be only required for hosting your own **fine-tuning** llm models. As the public open-source llms and embedding models in our sample are hosted in public model hub like huggingface, ollama model library etc., and will be dynamically downloaded into its deployment in SAP AI Core."
   ]
  },
  {
   "cell_type": "code",
   "execution_count": 7,
   "metadata": {},
   "outputs": [
    {
     "name": "stdout",
     "output_type": "stream",
     "text": [
      "{'message': 'secret has been created'}\n"
     ]
    }
   ],
   "source": [
    "# Create object Store secret,\n",
    "# object_store_secret = config[\"object_store_secret\"]\n",
    "response = client.object_store_secrets.create(\n",
    "    name = object_store_secret[\"name\"], # identifier for this secret within your SAP AI Core\",\n",
    "    path_prefix = path_prefix, # path that we want to limit restrict this secret access to\",\n",
    "    type = object_store_secret[\"type\"],\n",
    "    bucket = bucket_name, \n",
    "    #region = \"eu-central-1\",  # optional\n",
    "    endpoint = endpoint_url, \n",
    "    data = object_store_secret[\"data\"]\n",
    "    # data = { \n",
    "    # AWS_ACCESS_KEY_ID\": object_store_secret[\"data\"][\"AWS_ACCESS_KEY_ID\"],\n",
    "    # AWS_SECRET_ACCESS_KEY\": object_store_secret[\"data\"][\"AWS_SECRET_ACCESS_KEY\"]\n",
    "    # }\n",
    ")\n",
    "\n",
    "print(response.__dict__)"
   ]
  },
  {
   "cell_type": "markdown",
   "metadata": {},
   "source": [
    "### 9: Update the serving templates\n",
    "Please replace the place holders in the following serving templates.\n",
    "- <YOUR_DOCKER_SECRET> to be replaced with **docker-secret** created in step 5 or your own docker secret.\n",
    "- <YOUR_DOCKER_USER> to be replaced with your own docker hub user.\n",
    "- ai.sap.com/resourcePlan: By default, the resource plan is as **infer.s**, which is sufficient for 7B model in the sample tests notebooks afterwards. If you would like to run 13B or 30B beyond etc, please use **infer.m** or **infer.l** resource plan. Check out more detail about [Resource Plan in SAP AI Core](https://help.sap.com/docs/sap-ai-core/sap-ai-core-service-guide/choose-resource-plan-c58d4e584a5b40a2992265beb9b6be3c).\n",
    "```yaml\n",
    "    metadata:\n",
    "      #...\n",
    "      labels: |\n",
    "        ai.sap.com/resourcePlan: infer.s\n",
    "    spec: |\n",
    "      predictor:\n",
    "        imagePullSecrets:\n",
    "          - name: <YOUR_DOCKER_SECRET>\n",
    "          ...\n",
    "        containers:\n",
    "            - name: kserve-container\n",
    "              image: docker.io/<YOUR_DOCKER_USER>/ollama:ai-core\n",
    "```\n",
    "- [../byom-oss-llm-templates/llama.cpp-template.yaml](../byom-oss-llm-templates/llama.cpp-template.yaml)\n",
    "- [../byom-oss-llm-templates/local-ai-template.yaml](../byom-oss-llm-templates/local-ai-template.yaml)\n",
    "- [../byom-oss-llm-templates/ollama-template.yaml](../byom-oss-llm-templates/ollama-template.yaml)\n",
    "- [../byom-oss-llm-templates/vllm-template.yaml](../byom-oss-llm-templates/vllm-template.yaml)\n",
    "- [../byom-oss-llm-templates/infinity-template.yaml](../byom-oss-llm-templates/infinity-template.yaml)"
   ]
  },
  {
   "cell_type": "markdown",
   "metadata": {},
   "source": [
    "### 10: Onboard github repository and create an application"
   ]
  },
  {
   "cell_type": "code",
   "execution_count": 8,
   "metadata": {},
   "outputs": [
    {
     "name": "stdout",
     "output_type": "stream",
     "text": [
      "Message: Repository has been on-boarded.\n",
      "Id: byom-open-source-llm, Message: Application has been successfully created.\n"
     ]
    }
   ],
   "source": [
    "# Onboard repository\n",
    "repo_config = config[\"git_repo\"]\n",
    "repository = client.repositories.create(name,\n",
    "                                        url=repo_config.get(\"repo_url\"),\n",
    "                                        username=repo_config.get(\"user\"),\n",
    "                                        password=repo_config.get(\"access_token\")\n",
    "                                        )\n",
    "print(repository)\n",
    "\n",
    "# Create application\n",
    "app_config = config[\"application\"]\n",
    "application = client.applications.create(revision=app_config.get(\"revision\", \"HEAD\"),\n",
    "                                        path=app_config.get(\"path_in_repo\"),\n",
    "                                        application_name=name,\n",
    "                                        repository_name=name\n",
    "                                        )\n",
    "print(application)"
   ]
  },
  {
   "cell_type": "markdown",
   "metadata": {},
   "source": [
    "### 11: Check if application has synced and scenario created"
   ]
  },
  {
   "cell_type": "code",
   "execution_count": 9,
   "metadata": {},
   "outputs": [
    {
     "name": "stdout",
     "output_type": "stream",
     "text": [
      "Health Status: Healthy, Sync Status: Synced, Sync Finished at: 2024-06-28T07:13:57Z\n",
      "Application synced\n",
      "Scenario {'name': 'ollama', 'id': 'ollama'} synced\n",
      "Scenario {'name': 'local-ai', 'id': 'local-ai'} synced\n",
      "Scenario {'name': 'llama.cpp', 'id': 'llama.cpp'} synced\n",
      "Scenario {'name': 'vllm', 'id': 'vllm'} synced\n",
      "Scenario {'name': 'transformer', 'id': 'transformer'} synced\n",
      "Scenario {'name': 'infinity', 'id': 'infinity'} synced\n"
     ]
    }
   ],
   "source": [
    "max_tries = 10\n",
    "i = 0\n",
    "interval_s = 20\n",
    "while i < max_tries:\n",
    "    i = i +1\n",
    "    app_status = client.applications.get_status(name)\n",
    "    print(f\"Health Status: {app_status.health_status}, Sync Status: {app_status.sync_status}, Sync Finished at: {app_status.sync_finished_at}\" )\n",
    "    \n",
    "    if(app_status.sync_status == \"Synced\"):\n",
    "        break\n",
    "\n",
    "    # Synchronize the application and wait\n",
    "    client.applications.refresh(name) \n",
    "    sleep(interval_s)\n",
    "\n",
    "if app_status.sync_status == \"Synced\":\n",
    "    print(\"Application synced\")\n",
    "    # Check scenarios\n",
    "    scenarios = client.scenario.query()\n",
    "\n",
    "    scenario_list = config[\"scenarios\"]\n",
    "    for scenario in scenario_list:\n",
    "        scenario_name = scenario[\"name\"]\n",
    "        scenario_exists = scenario_name in [s.name for s in scenarios.resources]\n",
    "        print(f\"Scenario {scenario} synced\") if scenario_exists else print(f\"Scenario {scenario_name} not yet available\")\n",
    "\n",
    "else:\n",
    "    #print(f\"Application not yet synced after 10 time retry. Likely, something wrong in the templates under git repo {repository.url}/{app_config.get(\"path_in_repo\")}.\\nPlease check it. You can run this cell again once it is fixed.\")\n",
    "    print(f\"Application not yet synced after 10 time retry. Please execute this cell again\")"
   ]
  },
  {
   "cell_type": "markdown",
   "metadata": {},
   "source": [
    "### 12: Create configurations"
   ]
  },
  {
   "cell_type": "code",
   "execution_count": 10,
   "metadata": {},
   "outputs": [],
   "source": [
    "def update_json_file(file_path, key, value):\n",
    "    # Load the JSON configuration file\n",
    "    with open(file_path, 'r') as file:\n",
    "        config = json.load(file)\n",
    "\n",
    "    # Update the value\n",
    "    config[key] = value\n",
    "\n",
    "    # Write the updated configuration back to the file\n",
    "    with open(file_path, 'w') as file:\n",
    "        json.dump(config, file, indent=4)\n",
    "        print(f\"{file_path} updated. {key}: {value}\")"
   ]
  },
  {
   "cell_type": "code",
   "execution_count": 11,
   "metadata": {},
   "outputs": [
    {
     "name": "stdout",
     "output_type": "stream",
     "text": [
      "--------------ollama--------------\n",
      "Id: 67b2f234-db20-45b2-8647-5dba543655bf, Message: Configuration created\n",
      "ollama/env.json updated. configuration_id: 67b2f234-db20-45b2-8647-5dba543655bf\n",
      "--------------local-ai--------------\n",
      "Id: 7d637abd-c3dc-475a-8696-458a48a70252, Message: Configuration created\n",
      "local-ai/env.json updated. configuration_id: 7d637abd-c3dc-475a-8696-458a48a70252\n",
      "--------------llama.cpp--------------\n"
     ]
    },
    {
     "ename": "AIAPIInvalidRequestException",
     "evalue": "Failed to post /configurations: Invalid Request, Artifact 86bb0000-663d-47c9-ae44-1a16bfcd2ca5 not found. Please check the ID provided in inputArtifactBindings.. \n Status Code: 400, Request ID:4c2fb510-f0f3-4bda-a122-ff19dfc365b3",
     "output_type": "error",
     "traceback": [
      "\u001b[0;31m---------------------------------------------------------------------------\u001b[0m",
      "\u001b[0;31mAIAPIInvalidRequestException\u001b[0m              Traceback (most recent call last)",
      "Cell \u001b[0;32mIn[11], line 34\u001b[0m\n\u001b[1;32m     31\u001b[0m parameter_bindings \u001b[38;5;241m=\u001b[39m [ParameterBinding(key\u001b[38;5;241m=\u001b[39mpb[\u001b[38;5;124m'\u001b[39m\u001b[38;5;124mkey\u001b[39m\u001b[38;5;124m'\u001b[39m], value\u001b[38;5;241m=\u001b[39mpb[\u001b[38;5;124m'\u001b[39m\u001b[38;5;124mvalue\u001b[39m\u001b[38;5;124m'\u001b[39m]) \u001b[38;5;28;01mfor\u001b[39;00m pb \u001b[38;5;129;01min\u001b[39;00m conf[\u001b[38;5;124m\"\u001b[39m\u001b[38;5;124mparameters\u001b[39m\u001b[38;5;124m\"\u001b[39m]] \n\u001b[1;32m     33\u001b[0m \u001b[38;5;66;03m# Create the configuration with associated parameters and input artifacts\u001b[39;00m\n\u001b[0;32m---> 34\u001b[0m configuration \u001b[38;5;241m=\u001b[39m \u001b[43mclient\u001b[49m\u001b[38;5;241;43m.\u001b[39;49m\u001b[43mconfiguration\u001b[49m\u001b[38;5;241;43m.\u001b[39;49m\u001b[43mcreate\u001b[49m\u001b[43m(\u001b[49m\n\u001b[1;32m     35\u001b[0m \u001b[43m    \u001b[49m\u001b[43mname\u001b[49m\u001b[38;5;241;43m=\u001b[39;49m\u001b[43mconf\u001b[49m\u001b[43m[\u001b[49m\u001b[38;5;124;43m\"\u001b[39;49m\u001b[38;5;124;43mname\u001b[39;49m\u001b[38;5;124;43m\"\u001b[39;49m\u001b[43m]\u001b[49m\u001b[43m,\u001b[49m\n\u001b[1;32m     36\u001b[0m \u001b[43m    \u001b[49m\u001b[43mscenario_id\u001b[49m\u001b[38;5;241;43m=\u001b[39;49m\u001b[43mconf\u001b[49m\u001b[43m[\u001b[49m\u001b[38;5;124;43m\"\u001b[39;49m\u001b[38;5;124;43mscenario_id\u001b[39;49m\u001b[38;5;124;43m\"\u001b[39;49m\u001b[43m]\u001b[49m\u001b[43m,\u001b[49m\n\u001b[1;32m     37\u001b[0m \u001b[43m    \u001b[49m\u001b[43mexecutable_id\u001b[49m\u001b[38;5;241;43m=\u001b[39;49m\u001b[43mconf\u001b[49m\u001b[43m[\u001b[49m\u001b[38;5;124;43m\"\u001b[39;49m\u001b[38;5;124;43mexecutable_id\u001b[39;49m\u001b[38;5;124;43m\"\u001b[39;49m\u001b[43m]\u001b[49m\u001b[43m,\u001b[49m\n\u001b[1;32m     38\u001b[0m \u001b[43m    \u001b[49m\u001b[43mparameter_bindings\u001b[49m\u001b[38;5;241;43m=\u001b[39;49m\u001b[43mparameter_bindings\u001b[49m\u001b[43m,\u001b[49m\n\u001b[1;32m     39\u001b[0m \u001b[43m    \u001b[49m\u001b[43minput_artifact_bindings\u001b[49m\u001b[43m \u001b[49m\u001b[38;5;241;43m=\u001b[39;49m\u001b[43m \u001b[49m\u001b[43minput_artifact_bindings\u001b[49m\n\u001b[1;32m     40\u001b[0m \u001b[43m\u001b[49m\u001b[43m)\u001b[49m\n\u001b[1;32m     42\u001b[0m \u001b[38;5;28mprint\u001b[39m(configuration)\n\u001b[1;32m     44\u001b[0m \u001b[38;5;66;03m# Update the configuration_id in env.json under the corresponding folder\u001b[39;00m\n\u001b[1;32m     45\u001b[0m \u001b[38;5;66;03m# which will be used in continuos-deployment.ipynb to create deployment automatically.\u001b[39;00m\n",
      "File \u001b[0;32m~/Library/CloudStorage/OneDrive-SAPSE/SAP/work/04_SIX/02_projects/03_research/personal_git/btp-generative-ai-hub-use-cases/oss-llm-env/lib/python3.11/site-packages/ai_api_client_sdk/resource_clients/configuration_client.py:55\u001b[0m, in \u001b[0;36mConfigurationClient.create\u001b[0;34m(self, name, scenario_id, executable_id, parameter_bindings, input_artifact_bindings, resource_group)\u001b[0m\n\u001b[1;32m     53\u001b[0m \u001b[38;5;28;01mif\u001b[39;00m input_artifact_bindings:\n\u001b[1;32m     54\u001b[0m     body[\u001b[38;5;124m'\u001b[39m\u001b[38;5;124minput_artifact_bindings\u001b[39m\u001b[38;5;124m'\u001b[39m] \u001b[38;5;241m=\u001b[39m [iab\u001b[38;5;241m.\u001b[39mto_dict() \u001b[38;5;28;01mfor\u001b[39;00m iab \u001b[38;5;129;01min\u001b[39;00m input_artifact_bindings]\n\u001b[0;32m---> 55\u001b[0m response_dict \u001b[38;5;241m=\u001b[39m \u001b[38;5;28;43mself\u001b[39;49m\u001b[38;5;241;43m.\u001b[39;49m\u001b[43mrest_client\u001b[49m\u001b[38;5;241;43m.\u001b[39;49m\u001b[43mpost\u001b[49m\u001b[43m(\u001b[49m\u001b[43mpath\u001b[49m\u001b[38;5;241;43m=\u001b[39;49m\u001b[38;5;124;43m'\u001b[39;49m\u001b[38;5;124;43m/configurations\u001b[39;49m\u001b[38;5;124;43m'\u001b[39;49m\u001b[43m,\u001b[49m\u001b[43m \u001b[49m\u001b[43mbody\u001b[49m\u001b[38;5;241;43m=\u001b[39;49m\u001b[43mbody\u001b[49m\u001b[43m,\u001b[49m\u001b[43m \u001b[49m\u001b[43mresource_group\u001b[49m\u001b[38;5;241;43m=\u001b[39;49m\u001b[43mresource_group\u001b[49m\u001b[43m)\u001b[49m\n\u001b[1;32m     56\u001b[0m \u001b[38;5;28;01mreturn\u001b[39;00m ConfigurationCreateResponse\u001b[38;5;241m.\u001b[39mfrom_dict(response_dict)\n",
      "File \u001b[0;32m~/Library/CloudStorage/OneDrive-SAPSE/SAP/work/04_SIX/02_projects/03_research/personal_git/btp-generative-ai-hub-use-cases/oss-llm-env/lib/python3.11/site-packages/ai_api_client_sdk/helpers/rest_client.py:140\u001b[0m, in \u001b[0;36mRestClient.post\u001b[0;34m(self, path, body, headers, resource_group)\u001b[0m\n\u001b[1;32m    114\u001b[0m \u001b[38;5;28;01mdef\u001b[39;00m \u001b[38;5;21mpost\u001b[39m(\u001b[38;5;28mself\u001b[39m, path: \u001b[38;5;28mstr\u001b[39m, body: Dict[\u001b[38;5;28mstr\u001b[39m, Union[\u001b[38;5;28mstr\u001b[39m, \u001b[38;5;28mdict\u001b[39m]] \u001b[38;5;241m=\u001b[39m \u001b[38;5;28;01mNone\u001b[39;00m, headers: Dict[\u001b[38;5;28mstr\u001b[39m, \u001b[38;5;28mstr\u001b[39m] \u001b[38;5;241m=\u001b[39m \u001b[38;5;28;01mNone\u001b[39;00m,\n\u001b[1;32m    115\u001b[0m          resource_group: \u001b[38;5;28mstr\u001b[39m \u001b[38;5;241m=\u001b[39m \u001b[38;5;28;01mNone\u001b[39;00m) \u001b[38;5;241m-\u001b[39m\u001b[38;5;241m>\u001b[39m \u001b[38;5;28mdict\u001b[39m:\n\u001b[1;32m    116\u001b[0m \u001b[38;5;250m    \u001b[39m\u001b[38;5;124;03m\"\"\"Sends a POST request to the server.\u001b[39;00m\n\u001b[1;32m    117\u001b[0m \n\u001b[1;32m    118\u001b[0m \u001b[38;5;124;03m    :param path: path of the endpoint the request should be sent to\u001b[39;00m\n\u001b[0;32m   (...)\u001b[0m\n\u001b[1;32m    138\u001b[0m \u001b[38;5;124;03m    :rtype: dict\u001b[39;00m\n\u001b[1;32m    139\u001b[0m \u001b[38;5;124;03m    \"\"\"\u001b[39;00m\n\u001b[0;32m--> 140\u001b[0m     \u001b[38;5;28;01mreturn\u001b[39;00m \u001b[38;5;28;43mself\u001b[39;49m\u001b[38;5;241;43m.\u001b[39;49m\u001b[43m_handle_request\u001b[49m\u001b[43m(\u001b[49m\u001b[38;5;124;43m'\u001b[39;49m\u001b[38;5;124;43mpost\u001b[39;49m\u001b[38;5;124;43m'\u001b[39;49m\u001b[43m,\u001b[49m\u001b[43m \u001b[49m\u001b[43mpath\u001b[49m\u001b[38;5;241;43m=\u001b[39;49m\u001b[43mpath\u001b[49m\u001b[43m,\u001b[49m\u001b[43m \u001b[49m\u001b[43mbody_json\u001b[49m\u001b[38;5;241;43m=\u001b[39;49m\u001b[43mbody\u001b[49m\u001b[43m,\u001b[49m\u001b[43m \u001b[49m\u001b[43mheaders\u001b[49m\u001b[38;5;241;43m=\u001b[39;49m\u001b[43mheaders\u001b[49m\u001b[43m,\u001b[49m\u001b[43m \u001b[49m\u001b[43mresource_group\u001b[49m\u001b[38;5;241;43m=\u001b[39;49m\u001b[43mresource_group\u001b[49m\u001b[43m)\u001b[49m\n",
      "File \u001b[0;32m~/Library/CloudStorage/OneDrive-SAPSE/SAP/work/04_SIX/02_projects/03_research/personal_git/btp-generative-ai-hub-use-cases/oss-llm-env/lib/python3.11/site-packages/ai_api_client_sdk/helpers/rest_client.py:96\u001b[0m, in \u001b[0;36mRestClient._handle_request\u001b[0;34m(self, method, path, params, body_json, headers, resource_group)\u001b[0m\n\u001b[1;32m     94\u001b[0m error_details \u001b[38;5;241m=\u001b[39m response_json[\u001b[38;5;124m'\u001b[39m\u001b[38;5;124merror\u001b[39m\u001b[38;5;124m'\u001b[39m]\u001b[38;5;241m.\u001b[39mget(\u001b[38;5;124m'\u001b[39m\u001b[38;5;124mdetails\u001b[39m\u001b[38;5;124m'\u001b[39m)\n\u001b[1;32m     95\u001b[0m \u001b[38;5;28;01mif\u001b[39;00m status_code \u001b[38;5;241m==\u001b[39m \u001b[38;5;241m400\u001b[39m:\n\u001b[0;32m---> 96\u001b[0m     \u001b[38;5;28;01mraise\u001b[39;00m AIAPIInvalidRequestException(description\u001b[38;5;241m=\u001b[39merror_description, error_message\u001b[38;5;241m=\u001b[39merror_message,\n\u001b[1;32m     97\u001b[0m                                        error_code\u001b[38;5;241m=\u001b[39merror_code, request_id\u001b[38;5;241m=\u001b[39mrequest_id, details\u001b[38;5;241m=\u001b[39merror_details)\n\u001b[1;32m     98\u001b[0m \u001b[38;5;28;01melif\u001b[39;00m status_code \u001b[38;5;241m==\u001b[39m \u001b[38;5;241m404\u001b[39m:\n\u001b[1;32m     99\u001b[0m     \u001b[38;5;28;01mraise\u001b[39;00m AIAPINotFoundException(description\u001b[38;5;241m=\u001b[39merror_description, error_message\u001b[38;5;241m=\u001b[39merror_message,\n\u001b[1;32m    100\u001b[0m                                  error_code\u001b[38;5;241m=\u001b[39merror_code, request_id\u001b[38;5;241m=\u001b[39mrequest_id, details\u001b[38;5;241m=\u001b[39merror_details)\n",
      "\u001b[0;31mAIAPIInvalidRequestException\u001b[0m: Failed to post /configurations: Invalid Request, Artifact 86bb0000-663d-47c9-ae44-1a16bfcd2ca5 not found. Please check the ID provided in inputArtifactBindings.. \n Status Code: 400, Request ID:4c2fb510-f0f3-4bda-a122-ff19dfc365b3"
     ]
    }
   ],
   "source": [
    "from ai_core_sdk.models import InputArtifactBinding,ParameterBinding\n",
    "from ai_api_client_sdk.models.artifact import Artifact\n",
    "from ai_api_client_sdk.models.label import Label\n",
    "\n",
    "# Create serving configurations\n",
    "conf_list = config[\"configurations\"]\n",
    "\n",
    "for conf in conf_list:\n",
    "    print(f'--------------{conf[\"scenario_id\"]}--------------')\n",
    "    # Create input artifacts for model\n",
    "    input_artifact_bindings = []\n",
    "    for ia in conf[\"input_artifacts\"]:\n",
    "        # Since it is a dummy model place holder, we only create the artifact when it is missing\n",
    "        # Otherwise, skip it.\n",
    "        if len(ia[\"artifact_id\"]) == 0:\n",
    "            artifact = client.artifact.create(\n",
    "                name = ia[\"name\"], # Custom Non-unqiue identifier\n",
    "                kind = Artifact.Kind.MODEL,\n",
    "                url = ia[\"url\"], \n",
    "                scenario_id = conf[\"scenario_id\"],\n",
    "                description = ia[\"description\"]\n",
    "                # labels = [\n",
    "                #      Label(key=\"ext.ai.sap.com/model\", value=ia[\"name\"]) # any descriptive key-value pair, helps in filtering, key must have the prefix ext.ai.sap.com/\n",
    "                # ]\n",
    "            )\n",
    "            \n",
    "            print(artifact.__dict__)\n",
    "            # Write back the artifact_id to configuration\n",
    "            ia[\"artifact_id\"] = artifact.id\n",
    "        input_artifact_bindings.append(InputArtifactBinding(key=ia['key'], artifact_id=ia[\"artifact_id\"]))\n",
    "    parameter_bindings = [ParameterBinding(key=pb['key'], value=pb['value']) for pb in conf[\"parameters\"]] \n",
    "  \n",
    "    # Create the configuration with associated parameters and input artifacts\n",
    "    configuration = client.configuration.create(\n",
    "        name=conf[\"name\"],\n",
    "        scenario_id=conf[\"scenario_id\"],\n",
    "        executable_id=conf[\"executable_id\"],\n",
    "        parameter_bindings=parameter_bindings,\n",
    "        input_artifact_bindings = input_artifact_bindings\n",
    "    )\n",
    "    \n",
    "    print(configuration)\n",
    "\n",
    "    # Update the configuration_id in env.json under the corresponding folder\n",
    "    # which will be used in continuos-deployment.ipynb to create deployment automatically.\n",
    "    update_json_file(f'{conf[\"executable_id\"]}/env.json',\"configuration_id\", configuration.id)\n",
    "    config_id = configuration.id\n",
    "\n",
    "# write back to config.json\n",
    "with open(\"config.json\", 'w') as file:\n",
    "        json.dump(config, file, indent=4)\n",
    "        print(\"config.json updated.\")"
   ]
  },
  {
   "cell_type": "code",
   "execution_count": null,
   "metadata": {},
   "outputs": [],
   "source": []
  }
 ],
 "metadata": {
  "kernelspec": {
   "display_name": "Python 3 (ipykernel)",
   "language": "python",
   "name": "python3"
  },
  "language_info": {
   "codemirror_mode": {
    "name": "ipython",
    "version": 3
   },
   "file_extension": ".py",
   "mimetype": "text/x-python",
   "name": "python",
   "nbconvert_exporter": "python",
   "pygments_lexer": "ipython3",
   "version": "3.11.9"
  },
  "vscode": {
   "interpreter": {
    "hash": "aee8b7b246df8f9039afb4144a1f6fd8d2ca17a180786b69acc140d282b71a49"
   }
  }
 },
 "nbformat": 4,
 "nbformat_minor": 4
}
